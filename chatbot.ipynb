{
 "cells": [
  {
   "cell_type": "code",
   "execution_count": 10,
   "id": "92c06eb6",
   "metadata": {},
   "outputs": [],
   "source": [
    "import json\n",
    "import pandas as pd"
   ]
  },
  {
   "cell_type": "code",
   "execution_count": 11,
   "id": "a9af832a",
   "metadata": {},
   "outputs": [],
   "source": [
    "with open('chat.json') as content:\n",
    "    chat = json.load(content)"
   ]
  },
  {
   "cell_type": "code",
   "execution_count": 12,
   "id": "33490692",
   "metadata": {},
   "outputs": [],
   "source": [
    "tags = []\n",
    "inputs = []\n",
    "responses={}\n",
    "for intent in chat['intents']:\n",
    "    responses[intent['tag']]=intent['responses']\n",
    "    for lines in intent['input']:\n",
    "        inputs.append(lines)\n",
    "        tags.append(intent['tag'])"
   ]
  },
  {
   "cell_type": "code",
   "execution_count": 13,
   "id": "f3d9207f",
   "metadata": {},
   "outputs": [],
   "source": [
    "data = pd.DataFrame({\"inputs\":inputs, \"tags\":tags})"
   ]
  },
  {
   "cell_type": "code",
   "execution_count": 14,
   "id": "de55cdd5",
   "metadata": {},
   "outputs": [
    {
     "data": {
      "text/html": [
       "<div>\n",
       "<style scoped>\n",
       "    .dataframe tbody tr th:only-of-type {\n",
       "        vertical-align: middle;\n",
       "    }\n",
       "\n",
       "    .dataframe tbody tr th {\n",
       "        vertical-align: top;\n",
       "    }\n",
       "\n",
       "    .dataframe thead th {\n",
       "        text-align: right;\n",
       "    }\n",
       "</style>\n",
       "<table border=\"1\" class=\"dataframe\">\n",
       "  <thead>\n",
       "    <tr style=\"text-align: right;\">\n",
       "      <th></th>\n",
       "      <th>inputs</th>\n",
       "      <th>tags</th>\n",
       "    </tr>\n",
       "  </thead>\n",
       "  <tbody>\n",
       "    <tr>\n",
       "      <th>0</th>\n",
       "      <td>oi</td>\n",
       "      <td>saudacao</td>\n",
       "    </tr>\n",
       "    <tr>\n",
       "      <th>1</th>\n",
       "      <td>oi, fred</td>\n",
       "      <td>saudacao</td>\n",
       "    </tr>\n",
       "    <tr>\n",
       "      <th>2</th>\n",
       "      <td>fred</td>\n",
       "      <td>saudacao</td>\n",
       "    </tr>\n",
       "    <tr>\n",
       "      <th>3</th>\n",
       "      <td>freudulino</td>\n",
       "      <td>saudacao</td>\n",
       "    </tr>\n",
       "    <tr>\n",
       "      <th>4</th>\n",
       "      <td>ola</td>\n",
       "      <td>saudacao</td>\n",
       "    </tr>\n",
       "    <tr>\n",
       "      <th>...</th>\n",
       "      <td>...</td>\n",
       "      <td>...</td>\n",
       "    </tr>\n",
       "    <tr>\n",
       "      <th>96</th>\n",
       "      <td>o que posso fazer se eu me sentir sozinha?</td>\n",
       "      <td>sozinho</td>\n",
       "    </tr>\n",
       "    <tr>\n",
       "      <th>97</th>\n",
       "      <td>eu me sentir sozinha</td>\n",
       "      <td>sozinho</td>\n",
       "    </tr>\n",
       "    <tr>\n",
       "      <th>98</th>\n",
       "      <td>eu me sentir sozinho</td>\n",
       "      <td>sozinho</td>\n",
       "    </tr>\n",
       "    <tr>\n",
       "      <th>99</th>\n",
       "      <td>eu me sentir abandonado</td>\n",
       "      <td>sozinho</td>\n",
       "    </tr>\n",
       "    <tr>\n",
       "      <th>100</th>\n",
       "      <td>eu me sentir abandonada</td>\n",
       "      <td>sozinho</td>\n",
       "    </tr>\n",
       "  </tbody>\n",
       "</table>\n",
       "<p>101 rows × 2 columns</p>\n",
       "</div>"
      ],
      "text/plain": [
       "                                         inputs      tags\n",
       "0                                            oi  saudacao\n",
       "1                                      oi, fred  saudacao\n",
       "2                                          fred  saudacao\n",
       "3                                    freudulino  saudacao\n",
       "4                                           ola  saudacao\n",
       "..                                          ...       ...\n",
       "96   o que posso fazer se eu me sentir sozinha?   sozinho\n",
       "97                         eu me sentir sozinha   sozinho\n",
       "98                         eu me sentir sozinho   sozinho\n",
       "99                      eu me sentir abandonado   sozinho\n",
       "100                     eu me sentir abandonada   sozinho\n",
       "\n",
       "[101 rows x 2 columns]"
      ]
     },
     "execution_count": 14,
     "metadata": {},
     "output_type": "execute_result"
    }
   ],
   "source": [
    "data"
   ]
  },
  {
   "cell_type": "code",
   "execution_count": null,
   "id": "e9b12d79",
   "metadata": {},
   "outputs": [],
   "source": []
  }
 ],
 "metadata": {
  "kernelspec": {
   "display_name": "Python 3 (ipykernel)",
   "language": "python",
   "name": "python3"
  },
  "language_info": {
   "codemirror_mode": {
    "name": "ipython",
    "version": 3
   },
   "file_extension": ".py",
   "mimetype": "text/x-python",
   "name": "python",
   "nbconvert_exporter": "python",
   "pygments_lexer": "ipython3",
   "version": "3.10.6"
  }
 },
 "nbformat": 4,
 "nbformat_minor": 5
}
